{
 "cells": [
  {
   "cell_type": "code",
   "execution_count": 1,
   "id": "ca8bdd31",
   "metadata": {},
   "outputs": [],
   "source": [
    "import pandas as pd\n",
    "new_df = pd.DataFrame(columns=['province_name', 'year', 'month', 'mean_temp'])"
   ]
  },
  {
   "cell_type": "code",
   "execution_count": 2,
   "id": "ce81e01e",
   "metadata": {},
   "outputs": [],
   "source": [
    "file_name = ['aceh', 'bali', 'bangka', 'banten', 'bengkulu', 'gorontalo', 'jakarta', 'jambi',\\\n",
    "            'jawa_barat', 'jawa_tengah', 'jawa_timur', 'kalimantan_barat', 'kalimantan_selatan',\\\n",
    "            'kalimantan_tengah', 'kalimantan_timur', 'kep_riau', 'lampung', 'maluku_utara',\\\n",
    "            'maluku', 'ntb', 'ntt', 'papua', 'papubar', 'riau', 'sulbar', 'sulsel', 'sulteng',\\\n",
    "            'sultenggara', 'sulut', 'sumbar', 'sumsel', 'sumut', 'yogya']\n",
    "\n",
    "name = ['Aceh', 'Bali', 'Bangka Belitung', 'Banten', 'Bengkulu', 'Gorontalo', 'Jakarta',\\\n",
    "        'jambi', 'Jawa Barat', 'Jawa Tengah', 'Jawa Timur', 'Kalimantan Barat',\\\n",
    "        'Kalimantan Selatan', 'Kalimantan Tengah', 'Kalimantan Timur', 'Kepulauan Riau',\\\n",
    "        'Lampung', 'Maluku Utara', 'Maluku', 'Nusa Tenggara Barat', 'Nusa Tenggara Timur',\\\n",
    "        'Papua', 'Papua Barat', 'Riau', 'Sulawesi Barat', 'Sulawesi Selatan',\\\n",
    "        'Sulawesi Tengah', 'Sulawesi Tenggara', 'Sulawesi Utara', 'Sumatera Barat',\\\n",
    "        'Sumatera Selatan', 'Sumatera Utara', 'Yogyakarta']\n",
    "\n",
    "for i in range(33):\n",
    "    new_file = pd.read_csv((file_name[i]+'.csv'), encoding='unicode_escape', index_col=0)\n",
    "\n",
    "    for lab, row in new_file.iterrows():\n",
    "        for col, _ in new_file.iteritems():\n",
    "            new_row = {'province_name':[name[i]],\\\n",
    "                       'year':[lab], 'month':[col], 'mean_temp':[row[col]]}\n",
    "            new_row = pd.DataFrame(new_row)\n",
    "            new_df = pd.concat([new_df, new_row], ignore_index=True)"
   ]
  },
  {
   "cell_type": "code",
   "execution_count": 3,
   "id": "be695cac",
   "metadata": {},
   "outputs": [],
   "source": [
    "new_df.to_csv('mean_temp.csv', index=False)"
   ]
  }
 ],
 "metadata": {
  "kernelspec": {
   "display_name": "Python 3 (ipykernel)",
   "language": "python",
   "name": "python3"
  },
  "language_info": {
   "codemirror_mode": {
    "name": "ipython",
    "version": 3
   },
   "file_extension": ".py",
   "mimetype": "text/x-python",
   "name": "python",
   "nbconvert_exporter": "python",
   "pygments_lexer": "ipython3",
   "version": "3.10.4"
  }
 },
 "nbformat": 4,
 "nbformat_minor": 5
}
